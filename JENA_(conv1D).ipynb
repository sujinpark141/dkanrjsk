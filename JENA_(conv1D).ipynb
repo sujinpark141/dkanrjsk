{
  "nbformat": 4,
  "nbformat_minor": 0,
  "metadata": {
    "colab": {
      "name": "JENA (conv1D).ipynb",
      "provenance": [],
      "collapsed_sections": []
    },
    "kernelspec": {
      "name": "python3",
      "display_name": "Python 3"
    }
  },
  "cells": [
    {
      "cell_type": "code",
      "metadata": {
        "id": "kVVEK1l0HvtZ",
        "colab_type": "code",
        "outputId": "fff9a18a-f3bd-447b-b12c-d7efbe071d17",
        "colab": {
          "base_uri": "https://localhost:8080/",
          "height": 71
        }
      },
      "source": [
        "%tensorflow_version 1.x\n",
        "import keras\n",
        "keras.__version__"
      ],
      "execution_count": 1,
      "outputs": [
        {
          "output_type": "stream",
          "text": [
            "TensorFlow 1.x selected.\n"
          ],
          "name": "stdout"
        },
        {
          "output_type": "stream",
          "text": [
            "Using TensorFlow backend.\n"
          ],
          "name": "stderr"
        },
        {
          "output_type": "execute_result",
          "data": {
            "text/plain": [
              "'2.3.1'"
            ]
          },
          "metadata": {
            "tags": []
          },
          "execution_count": 1
        }
      ]
    },
    {
      "cell_type": "markdown",
      "metadata": {
        "id": "oIufHBh5vNu7",
        "colab_type": "text"
      },
      "source": [
        "**데이터 준비하기**"
      ]
    },
    {
      "cell_type": "code",
      "metadata": {
        "id": "cSzYLDvoUDFe",
        "colab_type": "code",
        "colab": {}
      },
      "source": [
        "import os"
      ],
      "execution_count": 0,
      "outputs": []
    },
    {
      "cell_type": "code",
      "metadata": {
        "id": "xibrZu7en958",
        "colab_type": "code",
        "outputId": "2db00bb9-902c-4ff3-f168-68e5a660472c",
        "colab": {
          "base_uri": "https://localhost:8080/",
          "height": 35
        }
      },
      "source": [
        "#Google drive에 옮긴 jena climate 데이터셋을 불러옵니다\n",
        "from google.colab import drive\n",
        "drive.mount('/content/drive')"
      ],
      "execution_count": 3,
      "outputs": [
        {
          "output_type": "stream",
          "text": [
            "Drive already mounted at /content/drive; to attempt to forcibly remount, call drive.mount(\"/content/drive\", force_remount=True).\n"
          ],
          "name": "stdout"
        }
      ]
    },
    {
      "cell_type": "code",
      "metadata": {
        "id": "RKrgKC2PoLUt",
        "colab_type": "code",
        "colab": {}
      },
      "source": [
        "#데이터셋을 저장할 디렉토리를 지정합니다.\n",
        "data_dir = ('/content/drive/My Drive/')"
      ],
      "execution_count": 0,
      "outputs": []
    },
    {
      "cell_type": "code",
      "metadata": {
        "id": "K5UDxVEDoyFS",
        "colab_type": "code",
        "colab": {}
      },
      "source": [
        "#data_dir을 'jena_climate_2009_2016.csv와 합쳐서 경로를 만듭니다.\n",
        "fname = os.path.join(data_dir, 'jena_climate_2009_2016.csv')"
      ],
      "execution_count": 0,
      "outputs": []
    },
    {
      "cell_type": "code",
      "metadata": {
        "id": "ukAgXdKbq704",
        "colab_type": "code",
        "outputId": "1de6ca40-91d1-4dfd-c3b7-1c3615ba4768",
        "colab": {
          "base_uri": "https://localhost:8080/",
          "height": 73
        }
      },
      "source": [
        "#데이터를 살펴봅니다.\n",
        "f = open(fname)\n",
        "data = f.read()\n",
        "f.close()\n",
        "\n",
        "lines = data.split('\\n')\n",
        "header = lines[0].split(',')\n",
        "lines = lines[1:]\n",
        "\n",
        "print(header)\n",
        "print(len(lines))"
      ],
      "execution_count": 6,
      "outputs": [
        {
          "output_type": "stream",
          "text": [
            "['\"Date Time\"', '\"p (mbar)\"', '\"T (degC)\"', '\"Tpot (K)\"', '\"Tdew (degC)\"', '\"rh (%)\"', '\"VPmax (mbar)\"', '\"VPact (mbar)\"', '\"VPdef (mbar)\"', '\"sh (g/kg)\"', '\"H2OC (mmol/mol)\"', '\"rho (g/m**3)\"', '\"wv (m/s)\"', '\"max. wv (m/s)\"', '\"wd (deg)\"']\n",
            "420551\n"
          ],
          "name": "stdout"
        }
      ]
    },
    {
      "cell_type": "code",
      "metadata": {
        "colab_type": "code",
        "id": "P51PidyvbC3O",
        "colab": {}
      },
      "source": [
        "#데이터프레임으로 자료를 나타내봅니다.\n",
        "!pip install -q sklearn\n",
        "\n",
        "from __future__ import absolute_import, division, print_function, unicode_literals\n",
        "\n",
        "import numpy as np\n",
        "import pandas as pd\n",
        "\n",
        "import tensorflow as tf\n",
        "\n",
        "from tensorflow import feature_column\n",
        "from tensorflow.keras import layers\n",
        "from sklearn.model_selection import train_test_split"
      ],
      "execution_count": 0,
      "outputs": []
    },
    {
      "cell_type": "code",
      "metadata": {
        "id": "AXGfCcXdbG6f",
        "colab_type": "code",
        "outputId": "5d559b66-de2e-4c63-cdbc-b1d9bd73e3cd",
        "colab": {
          "base_uri": "https://localhost:8080/",
          "height": 306
        }
      },
      "source": [
        "dataframe = pd.read_csv(fname)\n",
        "dataframe.head()"
      ],
      "execution_count": 8,
      "outputs": [
        {
          "output_type": "execute_result",
          "data": {
            "text/html": [
              "<div>\n",
              "<style scoped>\n",
              "    .dataframe tbody tr th:only-of-type {\n",
              "        vertical-align: middle;\n",
              "    }\n",
              "\n",
              "    .dataframe tbody tr th {\n",
              "        vertical-align: top;\n",
              "    }\n",
              "\n",
              "    .dataframe thead th {\n",
              "        text-align: right;\n",
              "    }\n",
              "</style>\n",
              "<table border=\"1\" class=\"dataframe\">\n",
              "  <thead>\n",
              "    <tr style=\"text-align: right;\">\n",
              "      <th></th>\n",
              "      <th>Date Time</th>\n",
              "      <th>p (mbar)</th>\n",
              "      <th>T (degC)</th>\n",
              "      <th>Tpot (K)</th>\n",
              "      <th>Tdew (degC)</th>\n",
              "      <th>rh (%)</th>\n",
              "      <th>VPmax (mbar)</th>\n",
              "      <th>VPact (mbar)</th>\n",
              "      <th>VPdef (mbar)</th>\n",
              "      <th>sh (g/kg)</th>\n",
              "      <th>H2OC (mmol/mol)</th>\n",
              "      <th>rho (g/m**3)</th>\n",
              "      <th>wv (m/s)</th>\n",
              "      <th>max. wv (m/s)</th>\n",
              "      <th>wd (deg)</th>\n",
              "    </tr>\n",
              "  </thead>\n",
              "  <tbody>\n",
              "    <tr>\n",
              "      <th>0</th>\n",
              "      <td>01.01.2009 00:10:00</td>\n",
              "      <td>996.52</td>\n",
              "      <td>-8.02</td>\n",
              "      <td>265.40</td>\n",
              "      <td>-8.90</td>\n",
              "      <td>93.3</td>\n",
              "      <td>3.33</td>\n",
              "      <td>3.11</td>\n",
              "      <td>0.22</td>\n",
              "      <td>1.94</td>\n",
              "      <td>3.12</td>\n",
              "      <td>1307.75</td>\n",
              "      <td>1.03</td>\n",
              "      <td>1.75</td>\n",
              "      <td>152.3</td>\n",
              "    </tr>\n",
              "    <tr>\n",
              "      <th>1</th>\n",
              "      <td>01.01.2009 00:20:00</td>\n",
              "      <td>996.57</td>\n",
              "      <td>-8.41</td>\n",
              "      <td>265.01</td>\n",
              "      <td>-9.28</td>\n",
              "      <td>93.4</td>\n",
              "      <td>3.23</td>\n",
              "      <td>3.02</td>\n",
              "      <td>0.21</td>\n",
              "      <td>1.89</td>\n",
              "      <td>3.03</td>\n",
              "      <td>1309.80</td>\n",
              "      <td>0.72</td>\n",
              "      <td>1.50</td>\n",
              "      <td>136.1</td>\n",
              "    </tr>\n",
              "    <tr>\n",
              "      <th>2</th>\n",
              "      <td>01.01.2009 00:30:00</td>\n",
              "      <td>996.53</td>\n",
              "      <td>-8.51</td>\n",
              "      <td>264.91</td>\n",
              "      <td>-9.31</td>\n",
              "      <td>93.9</td>\n",
              "      <td>3.21</td>\n",
              "      <td>3.01</td>\n",
              "      <td>0.20</td>\n",
              "      <td>1.88</td>\n",
              "      <td>3.02</td>\n",
              "      <td>1310.24</td>\n",
              "      <td>0.19</td>\n",
              "      <td>0.63</td>\n",
              "      <td>171.6</td>\n",
              "    </tr>\n",
              "    <tr>\n",
              "      <th>3</th>\n",
              "      <td>01.01.2009 00:40:00</td>\n",
              "      <td>996.51</td>\n",
              "      <td>-8.31</td>\n",
              "      <td>265.12</td>\n",
              "      <td>-9.07</td>\n",
              "      <td>94.2</td>\n",
              "      <td>3.26</td>\n",
              "      <td>3.07</td>\n",
              "      <td>0.19</td>\n",
              "      <td>1.92</td>\n",
              "      <td>3.08</td>\n",
              "      <td>1309.19</td>\n",
              "      <td>0.34</td>\n",
              "      <td>0.50</td>\n",
              "      <td>198.0</td>\n",
              "    </tr>\n",
              "    <tr>\n",
              "      <th>4</th>\n",
              "      <td>01.01.2009 00:50:00</td>\n",
              "      <td>996.51</td>\n",
              "      <td>-8.27</td>\n",
              "      <td>265.15</td>\n",
              "      <td>-9.04</td>\n",
              "      <td>94.1</td>\n",
              "      <td>3.27</td>\n",
              "      <td>3.08</td>\n",
              "      <td>0.19</td>\n",
              "      <td>1.92</td>\n",
              "      <td>3.09</td>\n",
              "      <td>1309.00</td>\n",
              "      <td>0.32</td>\n",
              "      <td>0.63</td>\n",
              "      <td>214.3</td>\n",
              "    </tr>\n",
              "  </tbody>\n",
              "</table>\n",
              "</div>"
            ],
            "text/plain": [
              "             Date Time  p (mbar)  T (degC)  ...  wv (m/s)  max. wv (m/s)  wd (deg)\n",
              "0  01.01.2009 00:10:00    996.52     -8.02  ...      1.03           1.75     152.3\n",
              "1  01.01.2009 00:20:00    996.57     -8.41  ...      0.72           1.50     136.1\n",
              "2  01.01.2009 00:30:00    996.53     -8.51  ...      0.19           0.63     171.6\n",
              "3  01.01.2009 00:40:00    996.51     -8.31  ...      0.34           0.50     198.0\n",
              "4  01.01.2009 00:50:00    996.51     -8.27  ...      0.32           0.63     214.3\n",
              "\n",
              "[5 rows x 15 columns]"
            ]
          },
          "metadata": {
            "tags": []
          },
          "execution_count": 8
        }
      ]
    },
    {
      "cell_type": "markdown",
      "metadata": {
        "id": "Fpgctr49peHr",
        "colab_type": "text"
      },
      "source": [
        "Date Time을 보면, 10분마다 데이터가 기록된 것을 알수있습니다.\n",
        "즉, 한시간에 6개의 관측값이 존재하고, 하루에는 24*6=144개의 온도 관측값이 존재합니다."
      ]
    },
    {
      "cell_type": "code",
      "metadata": {
        "id": "WPxkEbF0xIiN",
        "colab_type": "code",
        "outputId": "b0b9e05b-bf8f-472d-f9bc-75c04a8c8d9f",
        "colab": {
          "base_uri": "https://localhost:8080/",
          "height": 35
        }
      },
      "source": [
        "#line을 확인해서 데이터의 형태를확인합니다.\n",
        "lines[:1]"
      ],
      "execution_count": 9,
      "outputs": [
        {
          "output_type": "execute_result",
          "data": {
            "text/plain": [
              "['01.01.2009 00:10:00,996.52,-8.02,265.40,-8.90,93.30,3.33,3.11,0.22,1.94,3.12,1307.75,1.03,1.75,152.30']"
            ]
          },
          "metadata": {
            "tags": []
          },
          "execution_count": 9
        }
      ]
    },
    {
      "cell_type": "code",
      "metadata": {
        "id": "bZKF9wl7kg95",
        "colab_type": "code",
        "colab": {}
      },
      "source": [
        "#데이터를 numpy 배열로 변경합니다.\n",
        "import numpy as np\n",
        "\n",
        "float_data = np.zeros((len(lines), len(header) - 1))        #0으로 채워진 len(lines)행,len(header)-1열의 numpy array 공간을 만들어줍니다.\n",
        "for i, line in enumerate(lines):                            #i는 몇번째 line인지 표시해줍니다.\n",
        "    values = [float(x) for x in line.split(',')[1:]]        #line을','로 구분해서, 0번째(시간)를 제외하고 value로 저장해줍니다.\n",
        "    float_data[i, :] = values                               #저장했던 float_data 공간에 value들을 채워줍니다."
      ],
      "execution_count": 0,
      "outputs": []
    },
    {
      "cell_type": "code",
      "metadata": {
        "id": "SEzOEOitrACK",
        "colab_type": "code",
        "outputId": "710441b3-4e8b-48d0-9730-11a12b37a0c3",
        "colab": {
          "base_uri": "https://localhost:8080/",
          "height": 89
        }
      },
      "source": [
        "#위 작업을 통해 데이터가 어떻게 정리되었는지 확인해봅니다.\n",
        "float_data[:1]"
      ],
      "execution_count": 11,
      "outputs": [
        {
          "output_type": "execute_result",
          "data": {
            "text/plain": [
              "array([[ 9.96520e+02, -8.02000e+00,  2.65400e+02, -8.90000e+00,\n",
              "         9.33000e+01,  3.33000e+00,  3.11000e+00,  2.20000e-01,\n",
              "         1.94000e+00,  3.12000e+00,  1.30775e+03,  1.03000e+00,\n",
              "         1.75000e+00,  1.52300e+02]])"
            ]
          },
          "metadata": {
            "tags": []
          },
          "execution_count": 11
        }
      ]
    },
    {
      "cell_type": "code",
      "metadata": {
        "id": "S_D5uEuirBW1",
        "colab_type": "code",
        "outputId": "455fd3cf-7c42-4dd5-97c4-68b97d432a46",
        "colab": {
          "base_uri": "https://localhost:8080/",
          "height": 281
        }
      },
      "source": [
        "#시간에 따른 기온 그래프를 살펴봅니다.\n",
        "from matplotlib import pyplot as plt\n",
        "\n",
        "temperature = float_data[:, 1]  \n",
        "plt.plot(range(len(temperature)), temperature)\n",
        "plt.title('Temperature')\n",
        "plt.show()"
      ],
      "execution_count": 12,
      "outputs": [
        {
          "output_type": "display_data",
          "data": {
            "image/png": "[encoded data removed]",
            "text/plain": [
              "<Figure size 432x288 with 1 Axes>"
            ]
          },
          "metadata": {
            "tags": [],
            "needs_background": "light"
          }
        }
      ]
    },
    {
      "cell_type": "markdown",
      "metadata": {
        "id": "DS-Wt7GRoh57",
        "colab_type": "text"
      },
      "source": [
        "온도 데이터에 주기성이 있다는것을 확인할수있습니다."
      ]
    },
    {
      "cell_type": "markdown",
      "metadata": {
        "id": "t3dPOcdz2uEU",
        "colab_type": "text"
      },
      "source": [
        "**데이터 정규화하기**"
      ]
    },
    {
      "cell_type": "markdown",
      "metadata": {
        "id": "SeWQVxwF3xm-",
        "colab_type": "text"
      },
      "source": [
        "처음 200000개의 자료를 평균을 빼주고, 표준편차를 나눠서 train data로 사용하려합니다."
      ]
    },
    {
      "cell_type": "code",
      "metadata": {
        "id": "gkVEXTbKrEP1",
        "colab_type": "code",
        "colab": {}
      },
      "source": [
        "mean = float_data[:200000].mean(axis=0)\n",
        "float_data -= mean\n",
        "std = float_data[:200000].std(axis=0)\n",
        "float_data /= std"
      ],
      "execution_count": 0,
      "outputs": []
    },
    {
      "cell_type": "markdown",
      "metadata": {
        "id": "2cPFc7PogSJd",
        "colab_type": "text"
      },
      "source": [
        "**generator 함수 생성하기**"
      ]
    },
    {
      "cell_type": "code",
      "metadata": {
        "id": "SEP57qgwep1I",
        "colab_type": "code",
        "colab": {}
      },
      "source": [
        "#(samples, targets)를 반환하는 함수를 정의합니다.\n",
        "def generator(data, lookback, delay, min_index, max_index,\n",
        "              shuffle=False, batch_size=128, step=6):\n",
        "    if max_index is None:\n",
        "        max_index = len(data) - delay - 1\n",
        "    i = min_index + lookback\n",
        "    while 1:\n",
        "        if shuffle:\n",
        "            rows = np.random.randint(\n",
        "                min_index + lookback, max_index, size=batch_size)\n",
        "        else:\n",
        "            if i + batch_size >= max_index:\n",
        "                i = min_index + lookback\n",
        "            rows = np.arange(i, min(i + batch_size, max_index))\n",
        "            i += len(rows)                                            #데이터를 랜덤하게 샘플링해서 각 generator를 생성해주는 함수.\n",
        "\n",
        "        samples = np.zeros((len(rows),                              #samples과 targets의 공간을 만들어줍니다. (=batch size)\n",
        "                           lookback // step,                       #데이터의 갯수 차원 (한시간단위로 보고싶기때문에 step으로 나눠준 값을 사용합니다.)\n",
        "                           data.shape[-1]))                        # (14개의 날씨정보차원)\n",
        "        targets = np.zeros((len(rows),))\n",
        "        for j, row in enumerate(rows):                             \n",
        "            indices = range(rows[j] - lookback, rows[j], step)\n",
        "            samples[j] = data[indices]\n",
        "            targets[j] = data[rows[j] + delay][1]\n",
        "        yield samples, targets                                      #반복해서 데이터를 샘플링해 채워넣습니다."
      ],
      "execution_count": 0,
      "outputs": []
    },
    {
      "cell_type": "markdown",
      "metadata": {
        "id": "5d8vyv3JgYvJ",
        "colab_type": "text"
      },
      "source": [
        "**generator 함수 이용하여 train_gen, val_gen, test_gen 생성하기**"
      ]
    },
    {
      "cell_type": "code",
      "metadata": {
        "id": "izBMWmZYk7Dg",
        "colab_type": "code",
        "colab": {}
      },
      "source": [
        "lookback = 1440     #10일 전 데이터\n",
        "step = 6            #1시간마다 데이터\n",
        "delay = 144         #하루가 지난 데이터\n",
        "batch_size = 128    #몇개씩 데이터를 훈련할건지 설정해줍니다.\n",
        "\n",
        "train_gen = generator(float_data,\n",
        "                      lookback=lookback,\n",
        "                      delay=delay,\n",
        "                      min_index=0,\n",
        "                      max_index=200000,\n",
        "                      shuffle=True,\n",
        "                      step=step, \n",
        "                      batch_size=batch_size)             #0~200000까지의 데이터를 train_gen로 사용합니다.\n",
        "val_gen = generator(float_data,\n",
        "                    lookback=lookback,\n",
        "                    delay=delay,\n",
        "                    min_index=200001,\n",
        "                    max_index=300000,\n",
        "                    step=step,\n",
        "                    batch_size=batch_size)               #200001~300000까지의 데이터를 val_gen으로 사용합니다.\n",
        "test_gen = generator(float_data,\n",
        "                     lookback=lookback,\n",
        "                     delay=delay,\n",
        "                     min_index=300001,\n",
        "                     max_index=None,\n",
        "                     step=step,\n",
        "                     batch_size=batch_size)              #300001~끝까지의 데이터를 test_gen으로 사용합니다.\n",
        "\n",
        "val_steps = (300000 - 200001 - lookback) // batch_size   \n",
        "\n",
        "test_steps = (len(float_data) - 300001 - lookback) // batch_size"
      ],
      "execution_count": 0,
      "outputs": []
    },
    {
      "cell_type": "markdown",
      "metadata": {
        "id": "7HpEfN5qbdOh",
        "colab_type": "text"
      },
      "source": [
        "**1D Convnet을 사용하여 모델세우기**"
      ]
    },
    {
      "cell_type": "code",
      "metadata": {
        "id": "TGD6Rmyr8BeI",
        "colab_type": "code",
        "colab": {}
      },
      "source": [
        "from keras.models import Sequential\n",
        "from keras import layers\n",
        "from keras import Input\n",
        "from keras.optimizers import RMSprop"
      ],
      "execution_count": 0,
      "outputs": []
    },
    {
      "cell_type": "code",
      "metadata": {
        "id": "FoJmF-Ak9SR5",
        "colab_type": "code",
        "colab": {
          "base_uri": "https://localhost:8080/",
          "height": 127
        },
        "outputId": "7b68750b-4bf0-4d5b-f08b-3ed19abd9508"
      },
      "source": [
        "c_model=Sequential()\n",
        "c_model.add(layers.Conv1D(32, 5, activation='relu', input_shape=(None, float_data.shape[-1])))\n",
        "c_model.add(layers.MaxPooling1D(3))\n",
        "c_model.add(layers.Conv1D(32, 5, activation='relu'))\n",
        "c_model.add(layers.MaxPooling1D(3))\n",
        "c_model.add(layers.Conv1D(32, 5, activation='relu'))\n",
        "c_model.add(layers.GlobalMaxPooling1D())\n",
        "c_model.add(layers.Dense(1))                          #회귀문제이므로 마지막 Dense층에 activation은 생략합니다."
      ],
      "execution_count": 17,
      "outputs": [
        {
          "output_type": "stream",
          "text": [
            "WARNING:tensorflow:From /tensorflow-1.15.2/python3.6/tensorflow_core/python/ops/resource_variable_ops.py:1630: calling BaseResourceVariable.__init__ (from tensorflow.python.ops.resource_variable_ops) with constraint is deprecated and will be removed in a future version.\n",
            "Instructions for updating:\n",
            "If using Keras pass *_constraint arguments to layers.\n",
            "WARNING:tensorflow:From /usr/local/lib/python3.6/dist-packages/keras/backend/tensorflow_backend.py:4070: The name tf.nn.max_pool is deprecated. Please use tf.nn.max_pool2d instead.\n",
            "\n"
          ],
          "name": "stdout"
        }
      ]
    },
    {
      "cell_type": "code",
      "metadata": {
        "id": "CybUSCS0dDra",
        "colab_type": "code",
        "colab": {}
      },
      "source": [
        "c_model.compile(optimizer=RMSprop(), loss='mae')"
      ],
      "execution_count": 0,
      "outputs": []
    },
    {
      "cell_type": "code",
      "metadata": {
        "id": "YEQ-_5qPdpOb",
        "colab_type": "code",
        "outputId": "8257fb09-a5c9-4d1e-f2dc-253480c497c6",
        "colab": {
          "base_uri": "https://localhost:8080/",
          "height": 413
        }
      },
      "source": [
        "c_model.summary()"
      ],
      "execution_count": 19,
      "outputs": [
        {
          "output_type": "stream",
          "text": [
            "Model: \"sequential_1\"\n",
            "_________________________________________________________________\n",
            "Layer (type)                 Output Shape              Param #   \n",
            "=================================================================\n",
            "conv1d_1 (Conv1D)            (None, None, 32)          2272      \n",
            "_________________________________________________________________\n",
            "max_pooling1d_1 (MaxPooling1 (None, None, 32)          0         \n",
            "_________________________________________________________________\n",
            "conv1d_2 (Conv1D)            (None, None, 32)          5152      \n",
            "_________________________________________________________________\n",
            "max_pooling1d_2 (MaxPooling1 (None, None, 32)          0         \n",
            "_________________________________________________________________\n",
            "conv1d_3 (Conv1D)            (None, None, 32)          5152      \n",
            "_________________________________________________________________\n",
            "global_max_pooling1d_1 (Glob (None, 32)                0         \n",
            "_________________________________________________________________\n",
            "dense_1 (Dense)              (None, 1)                 33        \n",
            "=================================================================\n",
            "Total params: 12,609\n",
            "Trainable params: 12,609\n",
            "Non-trainable params: 0\n",
            "_________________________________________________________________\n"
          ],
          "name": "stdout"
        }
      ]
    },
    {
      "cell_type": "markdown",
      "metadata": {
        "id": "tFK4TXLZlRSK",
        "colab_type": "text"
      },
      "source": [
        "**모델의 층 그래프 그려보기**"
      ]
    },
    {
      "cell_type": "code",
      "metadata": {
        "id": "u2RbaiYodv4R",
        "colab_type": "code",
        "outputId": "b3e0ea7f-0fbe-4d0d-ac7f-166883ccbb7a",
        "colab": {
          "base_uri": "https://localhost:8080/",
          "height": 865
        }
      },
      "source": [
        "from keras.utils import plot_model\n",
        "plot_model(c_model, show_shapes=True, show_layer_names=True, to_file='model.png')"
      ],
      "execution_count": 20,
      "outputs": [
        {
          "output_type": "execute_result",
          "data": {
            "image/png": "[encoded data removed]",
            "text/plain": [
              "<IPython.core.display.Image object>"
            ]
          },
          "metadata": {
            "tags": []
          },
          "execution_count": 20
        }
      ]
    },
    {
      "cell_type": "markdown",
      "metadata": {
        "id": "36yHo50zlW3s",
        "colab_type": "text"
      },
      "source": [
        "**모델 훈련시키기**"
      ]
    },
    {
      "cell_type": "code",
      "metadata": {
        "id": "hyIms-wDiDX6",
        "colab_type": "code",
        "outputId": "902a25dd-6c4f-43f6-b634-b7c1c0f0488d",
        "colab": {
          "base_uri": "https://localhost:8080/",
          "height": 737
        }
      },
      "source": [
        "history = c_model.fit_generator(train_gen,\n",
        "                              steps_per_epoch=100,     #한 epoch당 100번의 step을 진행합니다.\n",
        "                              epochs=20,\n",
        "                              validation_data=val_gen,\n",
        "                              validation_steps=val_steps)"
      ],
      "execution_count": 43,
      "outputs": [
        {
          "output_type": "stream",
          "text": [
            "Epoch 1/20\n",
            "100/100 [==============================] - 23s 226ms/step - loss: 0.2458 - val_loss: 0.5693\n",
            "Epoch 2/20\n",
            "100/100 [==============================] - 22s 219ms/step - loss: 0.2471 - val_loss: 0.3332\n",
            "Epoch 3/20\n",
            "100/100 [==============================] - 22s 219ms/step - loss: 0.2452 - val_loss: 0.6335\n",
            "Epoch 4/20\n",
            "100/100 [==============================] - 22s 219ms/step - loss: 0.2456 - val_loss: 0.5618\n",
            "Epoch 5/20\n",
            "100/100 [==============================] - 22s 220ms/step - loss: 0.2438 - val_loss: 0.4813\n",
            "Epoch 6/20\n",
            "100/100 [==============================] - 22s 224ms/step - loss: 0.2425 - val_loss: 0.6595\n",
            "Epoch 7/20\n",
            "100/100 [==============================] - 22s 221ms/step - loss: 0.2462 - val_loss: 0.6184\n",
            "Epoch 8/20\n",
            "100/100 [==============================] - 22s 220ms/step - loss: 0.2449 - val_loss: 0.6460\n",
            "Epoch 9/20\n",
            "100/100 [==============================] - 22s 221ms/step - loss: 0.2406 - val_loss: 0.6809\n",
            "Epoch 10/20\n",
            "100/100 [==============================] - 22s 219ms/step - loss: 0.2463 - val_loss: 0.7418\n",
            "Epoch 11/20\n",
            "100/100 [==============================] - 22s 220ms/step - loss: 0.2425 - val_loss: 0.5172\n",
            "Epoch 12/20\n",
            "100/100 [==============================] - 22s 221ms/step - loss: 0.2380 - val_loss: 0.3752\n",
            "Epoch 13/20\n",
            "100/100 [==============================] - 22s 219ms/step - loss: 0.2412 - val_loss: 0.3358\n",
            "Epoch 14/20\n",
            "100/100 [==============================] - 22s 220ms/step - loss: 0.2420 - val_loss: 0.4952\n",
            "Epoch 15/20\n",
            "100/100 [==============================] - 22s 219ms/step - loss: 0.2412 - val_loss: 0.3168\n",
            "Epoch 16/20\n",
            "100/100 [==============================] - 22s 219ms/step - loss: 0.2351 - val_loss: 0.3270\n",
            "Epoch 17/20\n",
            "100/100 [==============================] - 22s 221ms/step - loss: 0.2393 - val_loss: 0.3746\n",
            "Epoch 18/20\n",
            "100/100 [==============================] - 22s 221ms/step - loss: 0.2399 - val_loss: 0.3991\n",
            "Epoch 19/20\n",
            "100/100 [==============================] - 22s 220ms/step - loss: 0.2344 - val_loss: 0.3411\n",
            "Epoch 20/20\n",
            "100/100 [==============================] - 22s 220ms/step - loss: 0.2354 - val_loss: 0.3113\n"
          ],
          "name": "stdout"
        }
      ]
    },
    {
      "cell_type": "markdown",
      "metadata": {
        "id": "YL-wkt2TloV8",
        "colab_type": "text"
      },
      "source": [
        "**손실 그래프 그려보기**"
      ]
    },
    {
      "cell_type": "code",
      "metadata": {
        "id": "iXsP2HA6jJ92",
        "colab_type": "code",
        "outputId": "f0c83b99-459e-407f-c037-ab32e516e52f",
        "colab": {
          "base_uri": "https://localhost:8080/",
          "height": 281
        }
      },
      "source": [
        "import matplotlib.pyplot as plt\n",
        "\n",
        "loss = history.history['loss']\n",
        "val_loss = history.history['val_loss']\n",
        "\n",
        "epochs = range(len(loss))\n",
        "\n",
        "plt.figure()\n",
        "\n",
        "plt.plot(epochs, loss, 'b', label='Training loss')\n",
        "plt.plot(epochs, val_loss, 'r', label='Validation loss')\n",
        "plt.title('Training and validation loss')\n",
        "plt.legend()\n",
        "\n",
        "plt.show()"
      ],
      "execution_count": 44,
      "outputs": [
        {
          "output_type": "display_data",
          "data": {
            "image/png": "[encoded data removed]",
            "text/plain": [
              "<Figure size 432x288 with 1 Axes>"
            ]
          },
          "metadata": {
            "tags": [],
            "needs_background": "light"
          }
        }
      ]
    },
    {
      "cell_type": "markdown",
      "metadata": {
        "id": "6Gj_K1fFyQhZ",
        "colab_type": "text"
      },
      "source": [
        "Overfitting이 있는것을 확인할수있습니다.\n",
        "Training loss는 점점 감소하는데, Validation loss는 증가 감소를 반복합니다."
      ]
    },
    {
      "cell_type": "markdown",
      "metadata": {
        "id": "MCrCvm-0yr8V",
        "colab_type": "text"
      },
      "source": [
        "Overfitting을 방지하고 성능을 더 향상시키기위해 LSTM층으로 다른 모델을 구성합니다."
      ]
    },
    {
      "cell_type": "markdown",
      "metadata": {
        "id": "_XY7_Hw1zmGV",
        "colab_type": "text"
      },
      "source": [
        "**LSTM 모델층쌓기**"
      ]
    },
    {
      "cell_type": "code",
      "metadata": {
        "id": "HKMcvgQ2o1TU",
        "colab_type": "code",
        "colab": {}
      },
      "source": [
        "from keras.layers import LSTM"
      ],
      "execution_count": 0,
      "outputs": []
    },
    {
      "cell_type": "code",
      "metadata": {
        "id": "54cKaArFztZp",
        "colab_type": "code",
        "colab": {}
      },
      "source": [
        "l_model= Sequential()\n",
        "l_model.add(layers.LSTM(32, return_sequences=True, input_shape=(None, float_data.shape[-1])))\n",
        "l_model.add(layers.LSTM(16))\n",
        "l_model.add(layers.Dense(1))        "
      ],
      "execution_count": 0,
      "outputs": []
    },
    {
      "cell_type": "markdown",
      "metadata": {
        "id": "Jegg4S9aN--g",
        "colab_type": "text"
      },
      "source": [
        "EarlyStopping callback을 사용해 2 epoch동안 손실이 더이상 좋아지지않으면 훈련을 중지하도록합니다."
      ]
    },
    {
      "cell_type": "code",
      "metadata": {
        "id": "4z9LjRR5Mjj8",
        "colab_type": "code",
        "colab": {
          "base_uri": "https://localhost:8080/",
          "height": 161
        },
        "outputId": "8c628525-6b48-4c7e-a012-0a490ab486e4"
      },
      "source": [
        "import keras\n",
        "callbacks_list = [\n",
        "    keras.callbacks.EarlyStopping(\n",
        "        monitor='loss',\n",
        "        patience=1,\n",
        "    ),\n",
        "    keras.callbacks.ModelCheckpoint(\n",
        "        filepath='l_model.jena',\n",
        "        monitor='val_loss',\n",
        "        save_best_only=True,\n",
        "    )\n",
        "]                                                         #Training동안 가장 좋은모델을 저장하기위해, 성능향상이 멈추면(loss를 모니터링해서) 훈련이 멈추도록합니다.\n",
        "l_model.compile(optimizer=RMSprop(), loss='mae')\n",
        "history=l_model.fit_generator(train_gen,\n",
        "                              steps_per_epoch=100,        \n",
        "                              epochs=20,\n",
        "                              callbacks=callbacks_list,\n",
        "                              validation_data=val_gen,\n",
        "                              validation_steps=val_steps)    #steps_per_epoch=500으로 할 경우 너무 느려서 100으로 수정한후 수행합니다."
      ],
      "execution_count": 39,
      "outputs": [
        {
          "output_type": "stream",
          "text": [
            "Epoch 1/20\n",
            "100/100 [==============================] - 86s 862ms/step - loss: 0.2407 - val_loss: 0.4222\n",
            "Epoch 2/20\n",
            "100/100 [==============================] - 86s 864ms/step - loss: 0.2376 - val_loss: 0.5006\n",
            "Epoch 3/20\n",
            "100/100 [==============================] - 83s 825ms/step - loss: 0.2301 - val_loss: 0.2811\n",
            "Epoch 4/20\n",
            "100/100 [==============================] - 87s 865ms/step - loss: 0.2310 - val_loss: 0.3923\n"
          ],
          "name": "stdout"
        }
      ]
    },
    {
      "cell_type": "markdown",
      "metadata": {
        "id": "7ib9iWuManmX",
        "colab_type": "text"
      },
      "source": [
        "성능향상이 4 Epoch에서 멈추는 것을 확인할수있습니다."
      ]
    },
    {
      "cell_type": "markdown",
      "metadata": {
        "id": "dqVRX9fA8kOB",
        "colab_type": "text"
      },
      "source": [
        "**모델 층 그래프 그려보기**"
      ]
    },
    {
      "cell_type": "code",
      "metadata": {
        "id": "uBRiYR180lEh",
        "colab_type": "code",
        "outputId": "650c7d11-bcb2-4cd3-bac0-caf0761d8b62",
        "colab": {
          "base_uri": "https://localhost:8080/",
          "height": 422
        }
      },
      "source": [
        "from keras.utils import plot_model\n",
        "plot_model(l_model, show_shapes=True, show_layer_names=True, to_file='model.png')"
      ],
      "execution_count": 40,
      "outputs": [
        {
          "output_type": "execute_result",
          "data": {
            "image/png": "[encoded data removed]",
            "text/plain": [
              "<IPython.core.display.Image object>"
            ]
          },
          "metadata": {
            "tags": []
          },
          "execution_count": 40
        }
      ]
    },
    {
      "cell_type": "code",
      "metadata": {
        "id": "OjpqvORQ50C6",
        "colab_type": "code",
        "outputId": "f7316061-e3e1-4304-bfa7-4266af21381f",
        "colab": {
          "base_uri": "https://localhost:8080/",
          "height": 299
        }
      },
      "source": [
        "#그래프를 초기화한후, 손실그래프를 다시 그려봅니다.\n",
        "plt.clf()           \n",
        "loss = history.history['loss']\n",
        "val_loss = history.history['val_loss']\n",
        "\n",
        "epochs = range(len(loss))\n",
        "\n",
        "plt.figure()\n",
        "\n",
        "plt.plot(epochs, loss, 'b', label='Training loss')\n",
        "plt.plot(epochs, val_loss, 'r', label='Validation loss')\n",
        "plt.title('Training and validation loss')\n",
        "plt.legend()\n",
        "\n",
        "plt.show()"
      ],
      "execution_count": 42,
      "outputs": [
        {
          "output_type": "display_data",
          "data": {
            "text/plain": [
              "<Figure size 432x288 with 0 Axes>"
            ]
          },
          "metadata": {
            "tags": []
          }
        },
        {
          "output_type": "display_data",
          "data": {
            "image/png": "[encoded data removed]",
            "text/plain": [
              "<Figure size 432x288 with 1 Axes>"
            ]
          },
          "metadata": {
            "tags": [],
            "needs_background": "light"
          }
        }
      ]
    },
    {
      "cell_type": "markdown",
      "metadata": {
        "id": "QmXofJiB9H4e",
        "colab_type": "text"
      },
      "source": [
        "Training loss는 계속 감소합니다.\n",
        "하지만 Validation loss는 불안정하다는것을 볼 수 있습니다.\n",
        "그래도 Conv1D를 사용해 모델층을 쌓은 네트워크보다는 LSTM의 네트워크가 성능이 좀 더 높다는것을 확인할수있습니다."
      ]
    }
  ]
}